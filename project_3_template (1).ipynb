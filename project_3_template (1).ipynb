{
  "nbformat": 4,
  "nbformat_minor": 0,
  "metadata": {
    "colab": {
      "name": "project_3_template.ipynb",
      "provenance": [],
      "collapsed_sections": []
    },
    "kernelspec": {
      "name": "python3",
      "display_name": "Python 3"
    }
  },
  "cells": [
    {
      "cell_type": "markdown",
      "metadata": {
        "id": "U5JUMgc_gbHp"
      },
      "source": [
        "# CS145: Project 3 | Project Name"
      ]
    },
    {
      "cell_type": "markdown",
      "metadata": {
        "id": "EHDiv4GrhofN"
      },
      "source": [
        "## Collaborators:\n",
        "Please list the names and SUNet IDs of your collaborators below:\n",
        "* *Fatima, 2018-CE-222*\n",
        "* *Saad Ali, 2018-CE-228*"
      ]
    },
    {
      "cell_type": "markdown",
      "metadata": {
        "id": "gMNQWFvSgepX"
      },
      "source": [
        "## Project Overview"
      ]
    },
    {
      "cell_type": "markdown",
      "metadata": {
        "id": "lX1Jkglwg1SI"
      },
      "source": [
        "---\n",
        "This project aims to train model via machine learning that predict Top Reviewed Products. The dataset contains a number of features that help in detecting.\n",
        "---"
      ]
    },
    {
      "cell_type": "markdown",
      "metadata": {
        "id": "r_GvgTCcgv6N"
      },
      "source": [
        "## Analysis of Dataset"
      ]
    },
    {
      "cell_type": "code",
      "metadata": {
        "id": "RFQlhDwxYflh"
      },
      "source": [
        "# Run this cell to authenticate yourself to BigQuery\n",
        "from google.colab import auth\n",
        "auth.authenticate_user()\n",
        "project_id = \"project1-310314\""
      ],
      "execution_count": 36,
      "outputs": []
    },
    {
      "cell_type": "code",
      "metadata": {
        "id": "53w1ippAYrON"
      },
      "source": [
        "# Initialize BiqQuery client\n",
        "from google.cloud import bigquery\n",
        "client = bigquery.Client(project=project_id)"
      ],
      "execution_count": 37,
      "outputs": []
    },
    {
      "cell_type": "code",
      "metadata": {
        "id": "tofOR7afTQ3o",
        "colab": {
          "base_uri": "https://localhost:8080/",
          "height": 364
        },
        "outputId": "ca55a96c-ff1d-41f2-d750-eea53f252cef"
      },
      "source": [
        "%%bigquery --project $project_id\n",
        "SELECT * FROM `project1-310314.Project3.Products`Limit 3"
      ],
      "execution_count": null,
      "outputs": [
        {
          "output_type": "execute_result",
          "data": {
            "text/html": [
              "<div>\n",
              "<style scoped>\n",
              "    .dataframe tbody tr th:only-of-type {\n",
              "        vertical-align: middle;\n",
              "    }\n",
              "\n",
              "    .dataframe tbody tr th {\n",
              "        vertical-align: top;\n",
              "    }\n",
              "\n",
              "    .dataframe thead th {\n",
              "        text-align: right;\n",
              "    }\n",
              "</style>\n",
              "<table border=\"1\" class=\"dataframe\">\n",
              "  <thead>\n",
              "    <tr style=\"text-align: right;\">\n",
              "      <th></th>\n",
              "      <th>Category</th>\n",
              "      <th>Sub_Category_1</th>\n",
              "      <th>Sub_Category_2</th>\n",
              "      <th>Product_ID</th>\n",
              "      <th>Product_Name</th>\n",
              "      <th>Brand_ID</th>\n",
              "      <th>Seller_ID</th>\n",
              "      <th>Prize</th>\n",
              "      <th>Rating_Score</th>\n",
              "      <th>Review</th>\n",
              "      <th>Installment</th>\n",
              "      <th>Description</th>\n",
              "      <th>In_Stock</th>\n",
              "      <th>Top_Reviewed</th>\n",
              "      <th>Special_Offer_Detail</th>\n",
              "      <th>Country</th>\n",
              "      <th>Product_URL</th>\n",
              "      <th>Image_Url</th>\n",
              "      <th>Year</th>\n",
              "    </tr>\n",
              "  </thead>\n",
              "  <tbody>\n",
              "    <tr>\n",
              "      <th>0</th>\n",
              "      <td>Electronic Devices</td>\n",
              "      <td>TV</td>\n",
              "      <td>Toshiba</td>\n",
              "      <td>127824608</td>\n",
              "      <td>Toshiba- LED Smart  - 55L5780 -CEVO ENGINE</td>\n",
              "      <td>25290</td>\n",
              "      <td>1109466</td>\n",
              "      <td>Rs. 89900</td>\n",
              "      <td>0.0</td>\n",
              "      <td>0</td>\n",
              "      <td>Installment available</td>\n",
              "      <td>['Full HD - D-LED  SMART LED  with Toshiba Por...</td>\n",
              "      <td>True</td>\n",
              "      <td>0</td>\n",
              "      <td>Special_Offer_Detail</td>\n",
              "      <td>Pakistan</td>\n",
              "      <td>//www.daraz.pk/products/toshiba-led-smart-55l5...</td>\n",
              "      <td>https://static-01.daraz.pk/p/82cadff3084bae34f...</td>\n",
              "      <td>2021</td>\n",
              "    </tr>\n",
              "    <tr>\n",
              "      <th>1</th>\n",
              "      <td>Electronic Devices</td>\n",
              "      <td>TV</td>\n",
              "      <td>Toshiba</td>\n",
              "      <td>128074421</td>\n",
              "      <td>Toshiba-LED Smart- 43L578 - CEVO ENGINE</td>\n",
              "      <td>25290</td>\n",
              "      <td>1109466</td>\n",
              "      <td>Rs. 59900</td>\n",
              "      <td>0.0</td>\n",
              "      <td>0</td>\n",
              "      <td>Installment available</td>\n",
              "      <td>['Full HD - D-LED SMART LED with Toshiba Porta...</td>\n",
              "      <td>True</td>\n",
              "      <td>0</td>\n",
              "      <td>Special_Offer_Detail</td>\n",
              "      <td>Pakistan</td>\n",
              "      <td>//www.daraz.pk/products/toshiba-led-smart-43l5...</td>\n",
              "      <td>https://static-01.daraz.pk/p/2db50941ec6754b33...</td>\n",
              "      <td>2021</td>\n",
              "    </tr>\n",
              "    <tr>\n",
              "      <th>2</th>\n",
              "      <td>Electronic Devices</td>\n",
              "      <td>TV</td>\n",
              "      <td>Toshiba</td>\n",
              "      <td>128173854</td>\n",
              "      <td>Toshiba LED TV - 49S2800 LED Basic TV (2K)</td>\n",
              "      <td>25290</td>\n",
              "      <td>1109466</td>\n",
              "      <td>Rs. 59900</td>\n",
              "      <td>0.0</td>\n",
              "      <td>0</td>\n",
              "      <td>Installment available</td>\n",
              "      <td>['Full HD - D-LED  1920 x 1080 ANALOGUE TV Pow...</td>\n",
              "      <td>True</td>\n",
              "      <td>0</td>\n",
              "      <td>Special_Offer_Detail</td>\n",
              "      <td>Pakistan</td>\n",
              "      <td>//www.daraz.pk/products/toshiba-led-tv-49s2800...</td>\n",
              "      <td>https://static-01.daraz.pk/p/051b0d737f0053830...</td>\n",
              "      <td>2021</td>\n",
              "    </tr>\n",
              "  </tbody>\n",
              "</table>\n",
              "</div>"
            ],
            "text/plain": [
              "             Category  ...  Year\n",
              "0  Electronic Devices  ...  2021\n",
              "1  Electronic Devices  ...  2021\n",
              "2  Electronic Devices  ...  2021\n",
              "\n",
              "[3 rows x 19 columns]"
            ]
          },
          "metadata": {
            "tags": []
          },
          "execution_count": 44
        }
      ]
    },
    {
      "cell_type": "markdown",
      "metadata": {
        "id": "c6wGQ8ZPgyuJ"
      },
      "source": [
        "---\n",
        "\n",
        "##What percentage of Products are \"Top Reviewed\"?\n",
        "\n",
        "----"
      ]
    },
    {
      "cell_type": "code",
      "metadata": {
        "colab": {
          "base_uri": "https://localhost:8080/",
          "height": 80
        },
        "id": "0_srY67eZOKp",
        "outputId": "ff8e06de-7611-45f3-b473-8f0e0a1ebc17"
      },
      "source": [
        "%%bigquery --project $project_id\n",
        "\n",
        "# YOUR QUERY HERE\n",
        "SELECT ROUND(      COUNTIF(Top_Reviewed=1)/\n",
        "                  (SELECT COUNT (*) FROM `project1-310314.Project3.Products`)*1000,2)AS Top_Reviewed  \n",
        "FROM `project1-310314.Project3.Products`"
      ],
      "execution_count": 96,
      "outputs": [
        {
          "output_type": "execute_result",
          "data": {
            "text/html": [
              "<div>\n",
              "<style scoped>\n",
              "    .dataframe tbody tr th:only-of-type {\n",
              "        vertical-align: middle;\n",
              "    }\n",
              "\n",
              "    .dataframe tbody tr th {\n",
              "        vertical-align: top;\n",
              "    }\n",
              "\n",
              "    .dataframe thead th {\n",
              "        text-align: right;\n",
              "    }\n",
              "</style>\n",
              "<table border=\"1\" class=\"dataframe\">\n",
              "  <thead>\n",
              "    <tr style=\"text-align: right;\">\n",
              "      <th></th>\n",
              "      <th>Top_Reviewed</th>\n",
              "    </tr>\n",
              "  </thead>\n",
              "  <tbody>\n",
              "    <tr>\n",
              "      <th>0</th>\n",
              "      <td>16.24</td>\n",
              "    </tr>\n",
              "  </tbody>\n",
              "</table>\n",
              "</div>"
            ],
            "text/plain": [
              "   Top_Reviewed\n",
              "0         16.24"
            ]
          },
          "metadata": {
            "tags": []
          },
          "execution_count": 96
        }
      ]
    },
    {
      "cell_type": "code",
      "metadata": {
        "id": "pDyG87J2ZmMm",
        "colab": {
          "base_uri": "https://localhost:8080/",
          "height": 264
        },
        "outputId": "eb8242b1-adc4-4aca-b855-6107a1329c9e"
      },
      "source": [
        "import matplotlib.pyplot as plt\n",
        "labels = 'Not Top Reviewws', 'Top Reviewed', \n",
        "sections = [84.7,16.24]\n",
        "colors = ['c', 'g']\n",
        "plt.pie(sections, labels=labels, colors=colors,\n",
        "        startangle=90)\n",
        "\n",
        "plt.axis('equal') # Try commenting this out.\n",
        "plt.title('Top Reveiwed Pie Chart')\n",
        "plt.show()"
      ],
      "execution_count": 110,
      "outputs": [
        {
          "output_type": "display_data",
          "data": {
            "image/png": "[encoded data removed]",
            "text/plain": [
              "<Figure size 432x288 with 1 Axes>"
            ]
          },
          "metadata": {
            "tags": []
          }
        }
      ]
    },
    {
      "cell_type": "code",
      "metadata": {
        "id": "fL9kgJIfVwf3"
      },
      "source": [
        "# Add imports for any visualization libraries you may need\n",
        "import matplotlib.pyplot as plt\n",
        "\n",
        "%matplotlib inline"
      ],
      "execution_count": null,
      "outputs": []
    },
    {
      "cell_type": "code",
      "metadata": {
        "id": "DYyTM_VoWz9z"
      },
      "source": [
        "%%bigquery --project $project_id g2\n",
        "\n",
        "select Sub_Category_1 as x,count(*) as y FROM `project1-310314.Project3.Products` group by Sub_Category_1"
      ],
      "execution_count": null,
      "outputs": []
    },
    {
      "cell_type": "code",
      "metadata": {
        "id": "dH2AlK6dYwLW",
        "colab": {
          "base_uri": "https://localhost:8080/",
          "height": 353
        },
        "outputId": "3f511015-1727-41c5-d13f-1d7f44bd3bff"
      },
      "source": [
        "plt.figure(figsize=(22,5))\n",
        "plt.scatter(g2[\"x\"], g2[\"y\"])\n",
        "plt.plot(g2[\"x\"], g2[\"y\"])\n",
        "plt.xlabel(\"Sub_Category\")\n",
        "plt.ylabel(\"NO of Products\")"
      ],
      "execution_count": null,
      "outputs": [
        {
          "output_type": "execute_result",
          "data": {
            "text/plain": [
              "Text(0, 0.5, 'NO of Products')"
            ]
          },
          "metadata": {
            "tags": []
          },
          "execution_count": 91
        },
        {
          "output_type": "display_data",
          "data": {
            "image/png": "[encoded data removed]",
            "text/plain": [
              "<Figure size 1584x360 with 1 Axes>"
            ]
          },
          "metadata": {
            "tags": [],
            "needs_background": "light"
          }
        }
      ]
    },
    {
      "cell_type": "code",
      "metadata": {
        "id": "x-OvyWrrUbmw"
      },
      "source": [
        "%%bigquery --project $project_id g1\n",
        "select Seller_Name as x,count(*) as y FROM `project1-310314.Project3.Products` p,`project1-310314.Project3.Sellers` s\n",
        "where p.Seller_ID=s.Seller_ID group by Seller_Name\n",
        "Limit 100"
      ],
      "execution_count": 27,
      "outputs": []
    },
    {
      "cell_type": "code",
      "metadata": {
        "id": "AnfykDP6Vanw",
        "colab": {
          "base_uri": "https://localhost:8080/",
          "height": 351
        },
        "outputId": "95b1b9d7-453f-4111-9348-ab83f81a720a"
      },
      "source": [
        "plt.figure(figsize=(22,5))\n",
        "plt.bar(g1[\"x\"], g1[\"y\"])\n",
        "plt.plot(g1[\"x\"], g1[\"y\"])\n",
        "plt.xlabel(\"Sellers\")\n",
        "plt.ylabel(\"NO of Products\")"
      ],
      "execution_count": 28,
      "outputs": [
        {
          "output_type": "execute_result",
          "data": {
            "text/plain": [
              "Text(0, 0.5, 'NO of Products')"
            ]
          },
          "metadata": {
            "tags": []
          },
          "execution_count": 28
        },
        {
          "output_type": "display_data",
          "data": {
            "image/png": "[encoded data removed]",
            "text/plain": [
              "<Figure size 1584x360 with 1 Axes>"
            ]
          },
          "metadata": {
            "tags": [],
            "needs_background": "light"
          }
        }
      ]
    },
    {
      "cell_type": "code",
      "metadata": {
        "id": "njZBezC9IZla"
      },
      "source": [
        "%%bigquery --project $project_id g3\n",
        "\n",
        "select Brand_Name as x,count(*) as y FROM `project1-310314.Project3.Products` p,`project1-310314.Project3.Brands` b \n",
        "where p.Brand_ID=b.Brand_ID group by Brand_Name"
      ],
      "execution_count": 18,
      "outputs": []
    },
    {
      "cell_type": "code",
      "metadata": {
        "colab": {
          "base_uri": "https://localhost:8080/",
          "height": 351
        },
        "id": "Hfhsov21JFg_",
        "outputId": "e034253a-64ea-4140-8cc7-9ee87ac04c4a"
      },
      "source": [
        "plt.figure(figsize=(22,5))\n",
        "plt.bar(g3[\"x\"], g3[\"y\"])\n",
        "plt.plot(g3[\"x\"], g3[\"y\"])\n",
        "plt.xlabel(\"Brand Name\")\n",
        "plt.ylabel(\"NO of Products\")"
      ],
      "execution_count": 19,
      "outputs": [
        {
          "output_type": "execute_result",
          "data": {
            "text/plain": [
              "Text(0, 0.5, 'NO of Products')"
            ]
          },
          "metadata": {
            "tags": []
          },
          "execution_count": 19
        },
        {
          "output_type": "display_data",
          "data": {
            "image/png": "[encoded data removed]",
            "text/plain": [
              "<Figure size 1584x360 with 1 Axes>"
            ]
          },
          "metadata": {
            "tags": [],
            "needs_background": "light"
          }
        }
      ]
    },
    {
      "cell_type": "code",
      "metadata": {
        "id": "GAfjBU9kKhYL"
      },
      "source": [
        "%%bigquery --project $project_id g4\n",
        "\n",
        "select Rating_Score as x,count(*) as y FROM `project1-310314.Project3.Products` p\n",
        "group by Rating_Score"
      ],
      "execution_count": 29,
      "outputs": []
    },
    {
      "cell_type": "code",
      "metadata": {
        "colab": {
          "base_uri": "https://localhost:8080/",
          "height": 355
        },
        "id": "Z7xl9s34KwPj",
        "outputId": "b8681b0c-a5f3-4a2c-e055-625e18a4330d"
      },
      "source": [
        "plt.figure(figsize=(22,5))\n",
        "plt.scatter(g4[\"x\"], g4[\"y\"])\n",
        "plt.plot(g4[\"x\"], g4[\"y\"])\n",
        "plt.xlabel(\"Ratings\")\n",
        "plt.ylabel(\"NO of Products\")"
      ],
      "execution_count": 31,
      "outputs": [
        {
          "output_type": "execute_result",
          "data": {
            "text/plain": [
              "Text(0, 0.5, 'NO of Products')"
            ]
          },
          "metadata": {
            "tags": []
          },
          "execution_count": 31
        },
        {
          "output_type": "display_data",
          "data": {
            "image/png": "[encoded data removed]",
            "text/plain": [
              "<Figure size 1584x360 with 1 Axes>"
            ]
          },
          "metadata": {
            "tags": [],
            "needs_background": "light"
          }
        }
      ]
    },
    {
      "cell_type": "code",
      "metadata": {
        "id": "V6YhAKlXLfpV"
      },
      "source": [
        "%%bigquery --project $project_id g4\n",
        "\n",
        "select Review as x,count(*) as y FROM `project1-310314.Project3.Products` p\n",
        "group by Review"
      ],
      "execution_count": 32,
      "outputs": []
    },
    {
      "cell_type": "code",
      "metadata": {
        "colab": {
          "base_uri": "https://localhost:8080/",
          "height": 355
        },
        "id": "hDPuUkplLokr",
        "outputId": "7f9f8745-e4e1-4562-baf2-1c428fdc5e63"
      },
      "source": [
        "plt.figure(figsize=(22,5))\n",
        "plt.scatter(g4[\"x\"], g4[\"y\"])\n",
        "plt.plot(g4[\"x\"], g4[\"y\"])\n",
        "plt.xlabel(\"Reviews\")\n",
        "plt.ylabel(\"NO of Products\")"
      ],
      "execution_count": 35,
      "outputs": [
        {
          "output_type": "execute_result",
          "data": {
            "text/plain": [
              "Text(0, 0.5, 'NO of Products')"
            ]
          },
          "metadata": {
            "tags": []
          },
          "execution_count": 35
        },
        {
          "output_type": "display_data",
          "data": {
            "image/png": "[encoded data removed]",
            "text/plain": [
              "<Figure size 1584x360 with 1 Axes>"
            ]
          },
          "metadata": {
            "tags": [],
            "needs_background": "light"
          }
        }
      ]
    },
    {
      "cell_type": "code",
      "metadata": {
        "colab": {
          "base_uri": "https://localhost:8080/"
        },
        "id": "2dYIHspWfhvn",
        "outputId": "a536e017-e666-4538-fd1c-0119790ce0bb"
      },
      "source": [
        "# Run this cell to create a dataset to store your model, or create in the UI\n",
        "\n",
        "model_dataset_name = 'Model'\n",
        "\n",
        "dataset = bigquery.Dataset(client.dataset(model_dataset_name))\n",
        "dataset.location = 'US'\n",
        "client.create_dataset(dataset)"
      ],
      "execution_count": null,
      "outputs": [
        {
          "output_type": "execute_result",
          "data": {
            "text/plain": [
              "Dataset(DatasetReference('project1-310314', 'Model'))"
            ]
          },
          "metadata": {
            "tags": []
          },
          "execution_count": 29
        }
      ]
    },
    {
      "cell_type": "code",
      "metadata": {
        "colab": {
          "base_uri": "https://localhost:8080/",
          "height": 359
        },
        "id": "eNjSvX-dgi35",
        "outputId": "5dee71ce-9dc9-4d48-d48c-0c2ed31abfcc"
      },
      "source": [
        "%%bigquery --project $project_id\n",
        "\n",
        "# YOUR QUERY HERE\n",
        "SELECT IF(Top_Reviewed=1, 1, 0) AS label,\n",
        "  Rating_Score AS Rating,\n",
        "  Review as Review,\n",
        "  Prize as Price,\n",
        "  In_Stock as Availability\n",
        "FROM `project1-310314.Project3.Products`\n",
        "where Year = 2020\n",
        "limit 10"
      ],
      "execution_count": 99,
      "outputs": [
        {
          "output_type": "execute_result",
          "data": {
            "text/html": [
              "<div>\n",
              "<style scoped>\n",
              "    .dataframe tbody tr th:only-of-type {\n",
              "        vertical-align: middle;\n",
              "    }\n",
              "\n",
              "    .dataframe tbody tr th {\n",
              "        vertical-align: top;\n",
              "    }\n",
              "\n",
              "    .dataframe thead th {\n",
              "        text-align: right;\n",
              "    }\n",
              "</style>\n",
              "<table border=\"1\" class=\"dataframe\">\n",
              "  <thead>\n",
              "    <tr style=\"text-align: right;\">\n",
              "      <th></th>\n",
              "      <th>label</th>\n",
              "      <th>Rating</th>\n",
              "      <th>Review</th>\n",
              "      <th>Price</th>\n",
              "      <th>Availability</th>\n",
              "    </tr>\n",
              "  </thead>\n",
              "  <tbody>\n",
              "    <tr>\n",
              "      <th>0</th>\n",
              "      <td>0</td>\n",
              "      <td>0.00000</td>\n",
              "      <td>0</td>\n",
              "      <td>Rs. 150000</td>\n",
              "      <td>True</td>\n",
              "    </tr>\n",
              "    <tr>\n",
              "      <th>1</th>\n",
              "      <td>0</td>\n",
              "      <td>4.71429</td>\n",
              "      <td>7</td>\n",
              "      <td>Rs. 15499</td>\n",
              "      <td>True</td>\n",
              "    </tr>\n",
              "    <tr>\n",
              "      <th>2</th>\n",
              "      <td>0</td>\n",
              "      <td>4.42857</td>\n",
              "      <td>7</td>\n",
              "      <td>Rs. 399</td>\n",
              "      <td>True</td>\n",
              "    </tr>\n",
              "    <tr>\n",
              "      <th>3</th>\n",
              "      <td>0</td>\n",
              "      <td>0.00000</td>\n",
              "      <td>0</td>\n",
              "      <td>Rs. 26999</td>\n",
              "      <td>True</td>\n",
              "    </tr>\n",
              "    <tr>\n",
              "      <th>4</th>\n",
              "      <td>0</td>\n",
              "      <td>0.00000</td>\n",
              "      <td>0</td>\n",
              "      <td>Rs. 19770</td>\n",
              "      <td>True</td>\n",
              "    </tr>\n",
              "    <tr>\n",
              "      <th>5</th>\n",
              "      <td>0</td>\n",
              "      <td>0.00000</td>\n",
              "      <td>0</td>\n",
              "      <td>Rs. 14990</td>\n",
              "      <td>True</td>\n",
              "    </tr>\n",
              "    <tr>\n",
              "      <th>6</th>\n",
              "      <td>0</td>\n",
              "      <td>0.00000</td>\n",
              "      <td>0</td>\n",
              "      <td>Rs. 4099</td>\n",
              "      <td>True</td>\n",
              "    </tr>\n",
              "    <tr>\n",
              "      <th>7</th>\n",
              "      <td>0</td>\n",
              "      <td>4.00000</td>\n",
              "      <td>2</td>\n",
              "      <td>Rs. 51000</td>\n",
              "      <td>True</td>\n",
              "    </tr>\n",
              "    <tr>\n",
              "      <th>8</th>\n",
              "      <td>0</td>\n",
              "      <td>4.50000</td>\n",
              "      <td>6</td>\n",
              "      <td>Rs. 39399</td>\n",
              "      <td>True</td>\n",
              "    </tr>\n",
              "    <tr>\n",
              "      <th>9</th>\n",
              "      <td>0</td>\n",
              "      <td>5.00000</td>\n",
              "      <td>8</td>\n",
              "      <td>Rs. 33499</td>\n",
              "      <td>True</td>\n",
              "    </tr>\n",
              "  </tbody>\n",
              "</table>\n",
              "</div>"
            ],
            "text/plain": [
              "   label   Rating  Review       Price  Availability\n",
              "0      0  0.00000       0  Rs. 150000          True\n",
              "1      0  4.71429       7   Rs. 15499          True\n",
              "2      0  4.42857       7     Rs. 399          True\n",
              "3      0  0.00000       0   Rs. 26999          True\n",
              "4      0  0.00000       0   Rs. 19770          True\n",
              "5      0  0.00000       0   Rs. 14990          True\n",
              "6      0  0.00000       0    Rs. 4099          True\n",
              "7      0  4.00000       2   Rs. 51000          True\n",
              "8      0  4.50000       6   Rs. 39399          True\n",
              "9      0  5.00000       8   Rs. 33499          True"
            ]
          },
          "metadata": {
            "tags": []
          },
          "execution_count": 99
        }
      ]
    },
    {
      "cell_type": "code",
      "metadata": {
        "colab": {
          "base_uri": "https://localhost:8080/",
          "height": 32
        },
        "id": "HWHJs96ziYog",
        "outputId": "8614da38-9bf7-4ef6-a1c5-ab9a70639198"
      },
      "source": [
        "%%bigquery --project $project_id\n",
        "\n",
        "# YOUR QUERY HERE\n",
        "CREATE OR REPLACE MODEL `Model.train` -- we'll call our model 'train'\n",
        "OPTIONS \n",
        "(model_type='logistic_reg') AS\n",
        "SELECT IF(Top_Reviewed=1, 1, 0) AS label,\n",
        "  Rating_Score AS Rating,\n",
        "  Review as Review,\n",
        "  Prize as Price,\n",
        "  In_Stock as Availability\n",
        "FROM `project1-310314.Project3.Products`\n",
        "where Year = 2020"
      ],
      "execution_count": 100,
      "outputs": [
        {
          "output_type": "execute_result",
          "data": {
            "text/html": [
              "<div>\n",
              "<style scoped>\n",
              "    .dataframe tbody tr th:only-of-type {\n",
              "        vertical-align: middle;\n",
              "    }\n",
              "\n",
              "    .dataframe tbody tr th {\n",
              "        vertical-align: top;\n",
              "    }\n",
              "\n",
              "    .dataframe thead th {\n",
              "        text-align: right;\n",
              "    }\n",
              "</style>\n",
              "<table border=\"1\" class=\"dataframe\">\n",
              "  <thead>\n",
              "    <tr style=\"text-align: right;\">\n",
              "      <th></th>\n",
              "    </tr>\n",
              "  </thead>\n",
              "  <tbody>\n",
              "  </tbody>\n",
              "</table>\n",
              "</div>"
            ],
            "text/plain": [
              "Empty DataFrame\n",
              "Columns: []\n",
              "Index: []"
            ]
          },
          "metadata": {
            "tags": []
          },
          "execution_count": 100
        }
      ]
    },
    {
      "cell_type": "code",
      "metadata": {
        "colab": {
          "base_uri": "https://localhost:8080/",
          "height": 297
        },
        "id": "hc2grBs1J84-",
        "outputId": "a541a3cd-46f2-47bb-8ad5-0aeffd431201"
      },
      "source": [
        "%%bigquery --project $project_id\n",
        "\n",
        "# Run cell to view training stats\n",
        "\n",
        "SELECT\n",
        "  *\n",
        "FROM\n",
        "  ML.TRAINING_INFO(MODEL `Model.train`)"
      ],
      "execution_count": 101,
      "outputs": [
        {
          "output_type": "execute_result",
          "data": {
            "text/html": [
              "<div>\n",
              "<style scoped>\n",
              "    .dataframe tbody tr th:only-of-type {\n",
              "        vertical-align: middle;\n",
              "    }\n",
              "\n",
              "    .dataframe tbody tr th {\n",
              "        vertical-align: top;\n",
              "    }\n",
              "\n",
              "    .dataframe thead th {\n",
              "        text-align: right;\n",
              "    }\n",
              "</style>\n",
              "<table border=\"1\" class=\"dataframe\">\n",
              "  <thead>\n",
              "    <tr style=\"text-align: right;\">\n",
              "      <th></th>\n",
              "      <th>training_run</th>\n",
              "      <th>iteration</th>\n",
              "      <th>loss</th>\n",
              "      <th>eval_loss</th>\n",
              "      <th>learning_rate</th>\n",
              "      <th>duration_ms</th>\n",
              "    </tr>\n",
              "  </thead>\n",
              "  <tbody>\n",
              "    <tr>\n",
              "      <th>0</th>\n",
              "      <td>0</td>\n",
              "      <td>7</td>\n",
              "      <td>0.016809</td>\n",
              "      <td>0.085985</td>\n",
              "      <td>25.6</td>\n",
              "      <td>4046</td>\n",
              "    </tr>\n",
              "    <tr>\n",
              "      <th>1</th>\n",
              "      <td>0</td>\n",
              "      <td>6</td>\n",
              "      <td>0.023844</td>\n",
              "      <td>0.086679</td>\n",
              "      <td>12.8</td>\n",
              "      <td>5167</td>\n",
              "    </tr>\n",
              "    <tr>\n",
              "      <th>2</th>\n",
              "      <td>0</td>\n",
              "      <td>5</td>\n",
              "      <td>0.037299</td>\n",
              "      <td>0.096686</td>\n",
              "      <td>6.4</td>\n",
              "      <td>3695</td>\n",
              "    </tr>\n",
              "    <tr>\n",
              "      <th>3</th>\n",
              "      <td>0</td>\n",
              "      <td>4</td>\n",
              "      <td>0.061790</td>\n",
              "      <td>0.120850</td>\n",
              "      <td>3.2</td>\n",
              "      <td>4315</td>\n",
              "    </tr>\n",
              "    <tr>\n",
              "      <th>4</th>\n",
              "      <td>0</td>\n",
              "      <td>3</td>\n",
              "      <td>0.111049</td>\n",
              "      <td>0.169891</td>\n",
              "      <td>1.6</td>\n",
              "      <td>3804</td>\n",
              "    </tr>\n",
              "    <tr>\n",
              "      <th>5</th>\n",
              "      <td>0</td>\n",
              "      <td>2</td>\n",
              "      <td>0.214117</td>\n",
              "      <td>0.269952</td>\n",
              "      <td>0.8</td>\n",
              "      <td>3504</td>\n",
              "    </tr>\n",
              "    <tr>\n",
              "      <th>6</th>\n",
              "      <td>0</td>\n",
              "      <td>1</td>\n",
              "      <td>0.383013</td>\n",
              "      <td>0.424395</td>\n",
              "      <td>0.4</td>\n",
              "      <td>5039</td>\n",
              "    </tr>\n",
              "    <tr>\n",
              "      <th>7</th>\n",
              "      <td>0</td>\n",
              "      <td>0</td>\n",
              "      <td>0.561200</td>\n",
              "      <td>0.580267</td>\n",
              "      <td>0.2</td>\n",
              "      <td>3408</td>\n",
              "    </tr>\n",
              "  </tbody>\n",
              "</table>\n",
              "</div>"
            ],
            "text/plain": [
              "   training_run  iteration      loss  eval_loss  learning_rate  duration_ms\n",
              "0             0          7  0.016809   0.085985           25.6         4046\n",
              "1             0          6  0.023844   0.086679           12.8         5167\n",
              "2             0          5  0.037299   0.096686            6.4         3695\n",
              "3             0          4  0.061790   0.120850            3.2         4315\n",
              "4             0          3  0.111049   0.169891            1.6         3804\n",
              "5             0          2  0.214117   0.269952            0.8         3504\n",
              "6             0          1  0.383013   0.424395            0.4         5039\n",
              "7             0          0  0.561200   0.580267            0.2         3408"
            ]
          },
          "metadata": {
            "tags": []
          },
          "execution_count": 101
        }
      ]
    },
    {
      "cell_type": "markdown",
      "metadata": {
        "id": "OsMMIDrjg_YG"
      },
      "source": [
        "---\n",
        "\n",
        "##Evaluate your model on unseen evaluation data.\n",
        "##Now we will evaluate on products launched in 2021\n",
        "\n",
        "---"
      ]
    },
    {
      "cell_type": "code",
      "metadata": {
        "id": "ntAnbvCbMMiW",
        "colab": {
          "base_uri": "https://localhost:8080/",
          "height": 80
        },
        "outputId": "6737cec3-be9f-4504-c9f0-f82231685ada"
      },
      "source": [
        "%%bigquery --project $project_id\n",
        "\n",
        "SELECT\n",
        "  *\n",
        "FROM\n",
        "  ML.EVALUATE(MODEL `Model.train`, \n",
        "            (SELECT IF(Top_Reviewed=1, 1, 0) AS label,\n",
        "    Rating_Score AS Rating,\n",
        "  Review as Review,\n",
        "  Prize as Price,\n",
        "  In_Stock as Availability\n",
        "FROM `project1-310314.Project3.Products`\n",
        "where Year = 2020))"
      ],
      "execution_count": 102,
      "outputs": [
        {
          "output_type": "execute_result",
          "data": {
            "text/html": [
              "<div>\n",
              "<style scoped>\n",
              "    .dataframe tbody tr th:only-of-type {\n",
              "        vertical-align: middle;\n",
              "    }\n",
              "\n",
              "    .dataframe tbody tr th {\n",
              "        vertical-align: top;\n",
              "    }\n",
              "\n",
              "    .dataframe thead th {\n",
              "        text-align: right;\n",
              "    }\n",
              "</style>\n",
              "<table border=\"1\" class=\"dataframe\">\n",
              "  <thead>\n",
              "    <tr style=\"text-align: right;\">\n",
              "      <th></th>\n",
              "      <th>precision</th>\n",
              "      <th>recall</th>\n",
              "      <th>accuracy</th>\n",
              "      <th>f1_score</th>\n",
              "      <th>log_loss</th>\n",
              "      <th>roc_auc</th>\n",
              "    </tr>\n",
              "  </thead>\n",
              "  <tbody>\n",
              "    <tr>\n",
              "      <th>0</th>\n",
              "      <td>0.769231</td>\n",
              "      <td>0.666667</td>\n",
              "      <td>0.989362</td>\n",
              "      <td>0.714286</td>\n",
              "      <td>0.030515</td>\n",
              "      <td>0.993513</td>\n",
              "    </tr>\n",
              "  </tbody>\n",
              "</table>\n",
              "</div>"
            ],
            "text/plain": [
              "   precision    recall  accuracy  f1_score  log_loss   roc_auc\n",
              "0   0.769231  0.666667  0.989362  0.714286  0.030515  0.993513"
            ]
          },
          "metadata": {
            "tags": []
          },
          "execution_count": 102
        }
      ]
    },
    {
      "cell_type": "code",
      "metadata": {
        "colab": {
          "base_uri": "https://localhost:8080/",
          "height": 111
        },
        "id": "e9cGYuzJpU5-",
        "outputId": "a7191c3f-e85d-4fe6-cbdf-6e0a2570e56f"
      },
      "source": [
        "%%bigquery --project $project_id \n",
        "#displays confusion matrix for the predicted results\n",
        "\n",
        "SELECT\n",
        "  *\n",
        "FROM\n",
        "  ML.CONFUSION_MATRIX(MODEL `Model.train`,\n",
        "           (SELECT IF(Top_Reviewed=1, 1, 0) AS label,\n",
        "   Rating_Score AS Rating,\n",
        "  Review as Review,\n",
        "  Prize as Price,\n",
        "  In_Stock as Availability\n",
        "FROM `project1-310314.Project3.Products`\n",
        "where Year = 2020))"
      ],
      "execution_count": 103,
      "outputs": [
        {
          "output_type": "execute_result",
          "data": {
            "text/html": [
              "<div>\n",
              "<style scoped>\n",
              "    .dataframe tbody tr th:only-of-type {\n",
              "        vertical-align: middle;\n",
              "    }\n",
              "\n",
              "    .dataframe tbody tr th {\n",
              "        vertical-align: top;\n",
              "    }\n",
              "\n",
              "    .dataframe thead th {\n",
              "        text-align: right;\n",
              "    }\n",
              "</style>\n",
              "<table border=\"1\" class=\"dataframe\">\n",
              "  <thead>\n",
              "    <tr style=\"text-align: right;\">\n",
              "      <th></th>\n",
              "      <th>expected_label</th>\n",
              "      <th>_0</th>\n",
              "      <th>_1</th>\n",
              "    </tr>\n",
              "  </thead>\n",
              "  <tbody>\n",
              "    <tr>\n",
              "      <th>0</th>\n",
              "      <td>0</td>\n",
              "      <td>734</td>\n",
              "      <td>3</td>\n",
              "    </tr>\n",
              "    <tr>\n",
              "      <th>1</th>\n",
              "      <td>1</td>\n",
              "      <td>5</td>\n",
              "      <td>10</td>\n",
              "    </tr>\n",
              "  </tbody>\n",
              "</table>\n",
              "</div>"
            ],
            "text/plain": [
              "   expected_label   _0  _1\n",
              "0               0  734   3\n",
              "1               1    5  10"
            ]
          },
          "metadata": {
            "tags": []
          },
          "execution_count": 103
        }
      ]
    },
    {
      "cell_type": "code",
      "metadata": {
        "colab": {
          "base_uri": "https://localhost:8080/",
          "height": 419
        },
        "id": "RPrA6yxUp4Ts",
        "outputId": "d77ede03-486b-47c5-aedb-c3f6b95f56f3"
      },
      "source": [
        "%%bigquery --project $project_id \n",
        "#table to display the the threshold and recall for all true and false postives and negatives.\n",
        "\n",
        "SELECT\n",
        "  *\n",
        "FROM\n",
        "  ML.ROC_CURVE(MODEL `Model.train`,\n",
        "            (SELECT IF(Top_Reviewed=1, 1, 0) AS label,\n",
        "   Rating_Score AS Rating,\n",
        "  Review as Review,\n",
        "  Prize as Price,\n",
        "  In_Stock as Availability\n",
        "FROM `project1-310314.Project3.Products`\n",
        "where Year = 2020))"
      ],
      "execution_count": 104,
      "outputs": [
        {
          "output_type": "execute_result",
          "data": {
            "text/html": [
              "<div>\n",
              "<style scoped>\n",
              "    .dataframe tbody tr th:only-of-type {\n",
              "        vertical-align: middle;\n",
              "    }\n",
              "\n",
              "    .dataframe tbody tr th {\n",
              "        vertical-align: top;\n",
              "    }\n",
              "\n",
              "    .dataframe thead th {\n",
              "        text-align: right;\n",
              "    }\n",
              "</style>\n",
              "<table border=\"1\" class=\"dataframe\">\n",
              "  <thead>\n",
              "    <tr style=\"text-align: right;\">\n",
              "      <th></th>\n",
              "      <th>threshold</th>\n",
              "      <th>recall</th>\n",
              "      <th>false_positive_rate</th>\n",
              "      <th>true_positives</th>\n",
              "      <th>false_positives</th>\n",
              "      <th>true_negatives</th>\n",
              "      <th>false_negatives</th>\n",
              "    </tr>\n",
              "  </thead>\n",
              "  <tbody>\n",
              "    <tr>\n",
              "      <th>0</th>\n",
              "      <td>1.000000</td>\n",
              "      <td>0.066667</td>\n",
              "      <td>0.000000</td>\n",
              "      <td>1</td>\n",
              "      <td>0</td>\n",
              "      <td>737</td>\n",
              "      <td>14</td>\n",
              "    </tr>\n",
              "    <tr>\n",
              "      <th>1</th>\n",
              "      <td>0.878701</td>\n",
              "      <td>0.466667</td>\n",
              "      <td>0.001357</td>\n",
              "      <td>7</td>\n",
              "      <td>1</td>\n",
              "      <td>736</td>\n",
              "      <td>8</td>\n",
              "    </tr>\n",
              "    <tr>\n",
              "      <th>2</th>\n",
              "      <td>0.295090</td>\n",
              "      <td>0.866667</td>\n",
              "      <td>0.004071</td>\n",
              "      <td>13</td>\n",
              "      <td>3</td>\n",
              "      <td>734</td>\n",
              "      <td>2</td>\n",
              "    </tr>\n",
              "    <tr>\n",
              "      <th>3</th>\n",
              "      <td>0.116644</td>\n",
              "      <td>0.866667</td>\n",
              "      <td>0.013569</td>\n",
              "      <td>13</td>\n",
              "      <td>10</td>\n",
              "      <td>727</td>\n",
              "      <td>2</td>\n",
              "    </tr>\n",
              "    <tr>\n",
              "      <th>4</th>\n",
              "      <td>0.076071</td>\n",
              "      <td>0.933333</td>\n",
              "      <td>0.025780</td>\n",
              "      <td>14</td>\n",
              "      <td>19</td>\n",
              "      <td>718</td>\n",
              "      <td>1</td>\n",
              "    </tr>\n",
              "    <tr>\n",
              "      <th>...</th>\n",
              "      <td>...</td>\n",
              "      <td>...</td>\n",
              "      <td>...</td>\n",
              "      <td>...</td>\n",
              "      <td>...</td>\n",
              "      <td>...</td>\n",
              "      <td>...</td>\n",
              "    </tr>\n",
              "    <tr>\n",
              "      <th>63</th>\n",
              "      <td>0.003507</td>\n",
              "      <td>1.000000</td>\n",
              "      <td>0.959294</td>\n",
              "      <td>15</td>\n",
              "      <td>707</td>\n",
              "      <td>30</td>\n",
              "      <td>0</td>\n",
              "    </tr>\n",
              "    <tr>\n",
              "      <th>64</th>\n",
              "      <td>0.003444</td>\n",
              "      <td>1.000000</td>\n",
              "      <td>0.970149</td>\n",
              "      <td>15</td>\n",
              "      <td>715</td>\n",
              "      <td>22</td>\n",
              "      <td>0</td>\n",
              "    </tr>\n",
              "    <tr>\n",
              "      <th>65</th>\n",
              "      <td>0.003357</td>\n",
              "      <td>1.000000</td>\n",
              "      <td>0.979647</td>\n",
              "      <td>15</td>\n",
              "      <td>722</td>\n",
              "      <td>15</td>\n",
              "      <td>0</td>\n",
              "    </tr>\n",
              "    <tr>\n",
              "      <th>66</th>\n",
              "      <td>0.003275</td>\n",
              "      <td>1.000000</td>\n",
              "      <td>0.990502</td>\n",
              "      <td>15</td>\n",
              "      <td>730</td>\n",
              "      <td>7</td>\n",
              "      <td>0</td>\n",
              "    </tr>\n",
              "    <tr>\n",
              "      <th>67</th>\n",
              "      <td>0.000120</td>\n",
              "      <td>1.000000</td>\n",
              "      <td>1.000000</td>\n",
              "      <td>15</td>\n",
              "      <td>737</td>\n",
              "      <td>0</td>\n",
              "      <td>0</td>\n",
              "    </tr>\n",
              "  </tbody>\n",
              "</table>\n",
              "<p>68 rows × 7 columns</p>\n",
              "</div>"
            ],
            "text/plain": [
              "    threshold    recall  ...  true_negatives  false_negatives\n",
              "0    1.000000  0.066667  ...             737               14\n",
              "1    0.878701  0.466667  ...             736                8\n",
              "2    0.295090  0.866667  ...             734                2\n",
              "3    0.116644  0.866667  ...             727                2\n",
              "4    0.076071  0.933333  ...             718                1\n",
              "..        ...       ...  ...             ...              ...\n",
              "63   0.003507  1.000000  ...              30                0\n",
              "64   0.003444  1.000000  ...              22                0\n",
              "65   0.003357  1.000000  ...              15                0\n",
              "66   0.003275  1.000000  ...               7                0\n",
              "67   0.000120  1.000000  ...               0                0\n",
              "\n",
              "[68 rows x 7 columns]"
            ]
          },
          "metadata": {
            "tags": []
          },
          "execution_count": 104
        }
      ]
    },
    {
      "cell_type": "markdown",
      "metadata": {
        "id": "NhFSJifsiC1U"
      },
      "source": [
        "## Data Prediction"
      ]
    },
    {
      "cell_type": "markdown",
      "metadata": {
        "id": "etTbpoEP1Jfm"
      },
      "source": [
        "##Predict your model on unseen evaluation data.\n",
        "##Now we will predict on products launched in 2019"
      ]
    },
    {
      "cell_type": "code",
      "metadata": {
        "id": "j_y9E6adkWlj",
        "colab": {
          "base_uri": "https://localhost:8080/",
          "height": 419
        },
        "outputId": "75d24cfb-7d46-484c-afeb-b37f4dac88d1"
      },
      "source": [
        "%%bigquery --project $project_id\n",
        "\n",
        "SELECT\n",
        "  *\n",
        "FROM\n",
        "  ML.PREDICT(MODEL `Model.train`, (\n",
        "  (SELECT IF(Top_Reviewed=1, 1, 0) AS label,\n",
        "    Rating_Score AS Rating,\n",
        "  Review as Review,\n",
        "  Prize as Price,\n",
        "  In_Stock as Availability\n",
        "FROM `project1-310314.Project3.Products`\n",
        "where Year = 2019)))"
      ],
      "execution_count": 109,
      "outputs": [
        {
          "output_type": "execute_result",
          "data": {
            "text/html": [
              "<div>\n",
              "<style scoped>\n",
              "    .dataframe tbody tr th:only-of-type {\n",
              "        vertical-align: middle;\n",
              "    }\n",
              "\n",
              "    .dataframe tbody tr th {\n",
              "        vertical-align: top;\n",
              "    }\n",
              "\n",
              "    .dataframe thead th {\n",
              "        text-align: right;\n",
              "    }\n",
              "</style>\n",
              "<table border=\"1\" class=\"dataframe\">\n",
              "  <thead>\n",
              "    <tr style=\"text-align: right;\">\n",
              "      <th></th>\n",
              "      <th>predicted_label</th>\n",
              "      <th>predicted_label_probs</th>\n",
              "      <th>label</th>\n",
              "      <th>Rating</th>\n",
              "      <th>Review</th>\n",
              "      <th>Price</th>\n",
              "      <th>Availability</th>\n",
              "    </tr>\n",
              "  </thead>\n",
              "  <tbody>\n",
              "    <tr>\n",
              "      <th>0</th>\n",
              "      <td>0</td>\n",
              "      <td>[{'label': 1, 'prob': 0.02276131892436393}, {'...</td>\n",
              "      <td>0</td>\n",
              "      <td>0.0</td>\n",
              "      <td>0</td>\n",
              "      <td>Rs. 13940</td>\n",
              "      <td>True</td>\n",
              "    </tr>\n",
              "    <tr>\n",
              "      <th>1</th>\n",
              "      <td>0</td>\n",
              "      <td>[{'label': 1, 'prob': 0.02276131892436393}, {'...</td>\n",
              "      <td>0</td>\n",
              "      <td>0.0</td>\n",
              "      <td>0</td>\n",
              "      <td>Rs. 44599</td>\n",
              "      <td>True</td>\n",
              "    </tr>\n",
              "    <tr>\n",
              "      <th>2</th>\n",
              "      <td>0</td>\n",
              "      <td>[{'label': 1, 'prob': 0.02276131892436393}, {'...</td>\n",
              "      <td>0</td>\n",
              "      <td>0.0</td>\n",
              "      <td>0</td>\n",
              "      <td>Rs. 65599</td>\n",
              "      <td>True</td>\n",
              "    </tr>\n",
              "    <tr>\n",
              "      <th>3</th>\n",
              "      <td>0</td>\n",
              "      <td>[{'label': 1, 'prob': 0.02276131892436393}, {'...</td>\n",
              "      <td>0</td>\n",
              "      <td>0.0</td>\n",
              "      <td>0</td>\n",
              "      <td>Rs. 55000</td>\n",
              "      <td>True</td>\n",
              "    </tr>\n",
              "    <tr>\n",
              "      <th>4</th>\n",
              "      <td>0</td>\n",
              "      <td>[{'label': 1, 'prob': 0.0035065145575314902}, ...</td>\n",
              "      <td>0</td>\n",
              "      <td>0.0</td>\n",
              "      <td>0</td>\n",
              "      <td>Rs. 21999</td>\n",
              "      <td>True</td>\n",
              "    </tr>\n",
              "    <tr>\n",
              "      <th>...</th>\n",
              "      <td>...</td>\n",
              "      <td>...</td>\n",
              "      <td>...</td>\n",
              "      <td>...</td>\n",
              "      <td>...</td>\n",
              "      <td>...</td>\n",
              "      <td>...</td>\n",
              "    </tr>\n",
              "    <tr>\n",
              "      <th>227</th>\n",
              "      <td>0</td>\n",
              "      <td>[{'label': 1, 'prob': 0.006193527724945158}, {...</td>\n",
              "      <td>0</td>\n",
              "      <td>5.0</td>\n",
              "      <td>3</td>\n",
              "      <td>Rs. 940</td>\n",
              "      <td>True</td>\n",
              "    </tr>\n",
              "    <tr>\n",
              "      <th>228</th>\n",
              "      <td>0</td>\n",
              "      <td>[{'label': 1, 'prob': 0.03332974548261618}, {'...</td>\n",
              "      <td>0</td>\n",
              "      <td>5.0</td>\n",
              "      <td>1</td>\n",
              "      <td>Rs. 480</td>\n",
              "      <td>True</td>\n",
              "    </tr>\n",
              "    <tr>\n",
              "      <th>229</th>\n",
              "      <td>0</td>\n",
              "      <td>[{'label': 1, 'prob': 0.03332974548261618}, {'...</td>\n",
              "      <td>0</td>\n",
              "      <td>5.0</td>\n",
              "      <td>1</td>\n",
              "      <td>Rs. 390</td>\n",
              "      <td>True</td>\n",
              "    </tr>\n",
              "    <tr>\n",
              "      <th>230</th>\n",
              "      <td>0</td>\n",
              "      <td>[{'label': 1, 'prob': 0.03332974548261618}, {'...</td>\n",
              "      <td>0</td>\n",
              "      <td>5.0</td>\n",
              "      <td>1</td>\n",
              "      <td>Rs. 659</td>\n",
              "      <td>True</td>\n",
              "    </tr>\n",
              "    <tr>\n",
              "      <th>231</th>\n",
              "      <td>0</td>\n",
              "      <td>[{'label': 1, 'prob': 0.005379224042458375}, {...</td>\n",
              "      <td>0</td>\n",
              "      <td>5.0</td>\n",
              "      <td>1</td>\n",
              "      <td>Rs. 799</td>\n",
              "      <td>True</td>\n",
              "    </tr>\n",
              "  </tbody>\n",
              "</table>\n",
              "<p>232 rows × 7 columns</p>\n",
              "</div>"
            ],
            "text/plain": [
              "     predicted_label  ... Availability\n",
              "0                  0  ...         True\n",
              "1                  0  ...         True\n",
              "2                  0  ...         True\n",
              "3                  0  ...         True\n",
              "4                  0  ...         True\n",
              "..               ...  ...          ...\n",
              "227                0  ...         True\n",
              "228                0  ...         True\n",
              "229                0  ...         True\n",
              "230                0  ...         True\n",
              "231                0  ...         True\n",
              "\n",
              "[232 rows x 7 columns]"
            ]
          },
          "metadata": {
            "tags": []
          },
          "execution_count": 109
        }
      ]
    },
    {
      "cell_type": "code",
      "metadata": {
        "colab": {
          "base_uri": "https://localhost:8080/",
          "height": 419
        },
        "id": "nEukqFBDqSNK",
        "outputId": "57d58f96-9cf4-4723-bcd6-141c46e2e4a2"
      },
      "source": [
        "%%bigquery --project $project_id \n",
        "# function to display the precision and recall values\n",
        "\n",
        "SELECT\n",
        "  recall,\n",
        "  true_positives / (true_positives + false_positives) AS precision\n",
        "FROM\n",
        "  ML.ROC_CURVE(MODEL `Model.train`,\n",
        "            (SELECT IF(Top_Reviewed=1, 1, 0) AS label,\n",
        "  Rating_Score AS Rating,\n",
        "  Review as Review,\n",
        "  Prize as Price,\n",
        "  In_Stock as Availability\n",
        "FROM `project1-310314.Project3.Products`\n",
        "where Year = 2020))"
      ],
      "execution_count": 105,
      "outputs": [
        {
          "output_type": "execute_result",
          "data": {
            "text/html": [
              "<div>\n",
              "<style scoped>\n",
              "    .dataframe tbody tr th:only-of-type {\n",
              "        vertical-align: middle;\n",
              "    }\n",
              "\n",
              "    .dataframe tbody tr th {\n",
              "        vertical-align: top;\n",
              "    }\n",
              "\n",
              "    .dataframe thead th {\n",
              "        text-align: right;\n",
              "    }\n",
              "</style>\n",
              "<table border=\"1\" class=\"dataframe\">\n",
              "  <thead>\n",
              "    <tr style=\"text-align: right;\">\n",
              "      <th></th>\n",
              "      <th>recall</th>\n",
              "      <th>precision</th>\n",
              "    </tr>\n",
              "  </thead>\n",
              "  <tbody>\n",
              "    <tr>\n",
              "      <th>0</th>\n",
              "      <td>0.066667</td>\n",
              "      <td>1.000000</td>\n",
              "    </tr>\n",
              "    <tr>\n",
              "      <th>1</th>\n",
              "      <td>0.466667</td>\n",
              "      <td>0.875000</td>\n",
              "    </tr>\n",
              "    <tr>\n",
              "      <th>2</th>\n",
              "      <td>0.866667</td>\n",
              "      <td>0.812500</td>\n",
              "    </tr>\n",
              "    <tr>\n",
              "      <th>3</th>\n",
              "      <td>0.866667</td>\n",
              "      <td>0.565217</td>\n",
              "    </tr>\n",
              "    <tr>\n",
              "      <th>4</th>\n",
              "      <td>0.933333</td>\n",
              "      <td>0.424242</td>\n",
              "    </tr>\n",
              "    <tr>\n",
              "      <th>...</th>\n",
              "      <td>...</td>\n",
              "      <td>...</td>\n",
              "    </tr>\n",
              "    <tr>\n",
              "      <th>63</th>\n",
              "      <td>1.000000</td>\n",
              "      <td>0.020776</td>\n",
              "    </tr>\n",
              "    <tr>\n",
              "      <th>64</th>\n",
              "      <td>1.000000</td>\n",
              "      <td>0.020548</td>\n",
              "    </tr>\n",
              "    <tr>\n",
              "      <th>65</th>\n",
              "      <td>1.000000</td>\n",
              "      <td>0.020353</td>\n",
              "    </tr>\n",
              "    <tr>\n",
              "      <th>66</th>\n",
              "      <td>1.000000</td>\n",
              "      <td>0.020134</td>\n",
              "    </tr>\n",
              "    <tr>\n",
              "      <th>67</th>\n",
              "      <td>1.000000</td>\n",
              "      <td>0.019947</td>\n",
              "    </tr>\n",
              "  </tbody>\n",
              "</table>\n",
              "<p>68 rows × 2 columns</p>\n",
              "</div>"
            ],
            "text/plain": [
              "      recall  precision\n",
              "0   0.066667   1.000000\n",
              "1   0.466667   0.875000\n",
              "2   0.866667   0.812500\n",
              "3   0.866667   0.565217\n",
              "4   0.933333   0.424242\n",
              "..       ...        ...\n",
              "63  1.000000   0.020776\n",
              "64  1.000000   0.020548\n",
              "65  1.000000   0.020353\n",
              "66  1.000000   0.020134\n",
              "67  1.000000   0.019947\n",
              "\n",
              "[68 rows x 2 columns]"
            ]
          },
          "metadata": {
            "tags": []
          },
          "execution_count": 105
        }
      ]
    },
    {
      "cell_type": "code",
      "metadata": {
        "colab": {
          "base_uri": "https://localhost:8080/",
          "height": 204
        },
        "id": "S73vDHQywC_-",
        "outputId": "ed214234-def9-4acf-b703-634c4d56374b"
      },
      "source": [
        "%%bigquery --project $project_id \n",
        "#shows the weight given to each feature while training the model\n",
        "SELECT\n",
        "  *\n",
        "FROM\n",
        "  ML.WEIGHTS(MODEL `Model.train`,\n",
        "    STRUCT(true AS standardize))"
      ],
      "execution_count": 106,
      "outputs": [
        {
          "output_type": "execute_result",
          "data": {
            "text/html": [
              "<div>\n",
              "<style scoped>\n",
              "    .dataframe tbody tr th:only-of-type {\n",
              "        vertical-align: middle;\n",
              "    }\n",
              "\n",
              "    .dataframe tbody tr th {\n",
              "        vertical-align: top;\n",
              "    }\n",
              "\n",
              "    .dataframe thead th {\n",
              "        text-align: right;\n",
              "    }\n",
              "</style>\n",
              "<table border=\"1\" class=\"dataframe\">\n",
              "  <thead>\n",
              "    <tr style=\"text-align: right;\">\n",
              "      <th></th>\n",
              "      <th>processed_input</th>\n",
              "      <th>weight</th>\n",
              "      <th>category_weights</th>\n",
              "    </tr>\n",
              "  </thead>\n",
              "  <tbody>\n",
              "    <tr>\n",
              "      <th>0</th>\n",
              "      <td>Rating</td>\n",
              "      <td>0.174675</td>\n",
              "      <td>[]</td>\n",
              "    </tr>\n",
              "    <tr>\n",
              "      <th>1</th>\n",
              "      <td>Review</td>\n",
              "      <td>0.869834</td>\n",
              "      <td>[]</td>\n",
              "    </tr>\n",
              "    <tr>\n",
              "      <th>2</th>\n",
              "      <td>Price</td>\n",
              "      <td>NaN</td>\n",
              "      <td>[{'category': 'Rs. 21990', 'weight': -2.029882...</td>\n",
              "    </tr>\n",
              "    <tr>\n",
              "      <th>3</th>\n",
              "      <td>Availability</td>\n",
              "      <td>NaN</td>\n",
              "      <td>[{'category': 'false', 'weight': -1.6173147770...</td>\n",
              "    </tr>\n",
              "    <tr>\n",
              "      <th>4</th>\n",
              "      <td>__INTERCEPT__</td>\n",
              "      <td>-1.694252</td>\n",
              "      <td>[]</td>\n",
              "    </tr>\n",
              "  </tbody>\n",
              "</table>\n",
              "</div>"
            ],
            "text/plain": [
              "  processed_input    weight                                   category_weights\n",
              "0          Rating  0.174675                                                 []\n",
              "1          Review  0.869834                                                 []\n",
              "2           Price       NaN  [{'category': 'Rs. 21990', 'weight': -2.029882...\n",
              "3    Availability       NaN  [{'category': 'false', 'weight': -1.6173147770...\n",
              "4   __INTERCEPT__ -1.694252                                                 []"
            ]
          },
          "metadata": {
            "tags": []
          },
          "execution_count": 106
        }
      ]
    },
    {
      "cell_type": "code",
      "metadata": {
        "colab": {
          "base_uri": "https://localhost:8080/",
          "height": 297
        },
        "id": "LWGjyRbsweFn",
        "outputId": "28d0fb83-7dd7-4282-ee54-a191f4237929"
      },
      "source": [
        "%%bigquery --project $project_id \n",
        "#displays the learning rate , duration and loss during each  iteration\n",
        "\n",
        "SELECT\n",
        "  *\n",
        "FROM\n",
        "  ML.TRAINING_INFO(MODEL `Model.train`)"
      ],
      "execution_count": 107,
      "outputs": [
        {
          "output_type": "execute_result",
          "data": {
            "text/html": [
              "<div>\n",
              "<style scoped>\n",
              "    .dataframe tbody tr th:only-of-type {\n",
              "        vertical-align: middle;\n",
              "    }\n",
              "\n",
              "    .dataframe tbody tr th {\n",
              "        vertical-align: top;\n",
              "    }\n",
              "\n",
              "    .dataframe thead th {\n",
              "        text-align: right;\n",
              "    }\n",
              "</style>\n",
              "<table border=\"1\" class=\"dataframe\">\n",
              "  <thead>\n",
              "    <tr style=\"text-align: right;\">\n",
              "      <th></th>\n",
              "      <th>training_run</th>\n",
              "      <th>iteration</th>\n",
              "      <th>loss</th>\n",
              "      <th>eval_loss</th>\n",
              "      <th>learning_rate</th>\n",
              "      <th>duration_ms</th>\n",
              "    </tr>\n",
              "  </thead>\n",
              "  <tbody>\n",
              "    <tr>\n",
              "      <th>0</th>\n",
              "      <td>0</td>\n",
              "      <td>7</td>\n",
              "      <td>0.016809</td>\n",
              "      <td>0.085985</td>\n",
              "      <td>25.6</td>\n",
              "      <td>4046</td>\n",
              "    </tr>\n",
              "    <tr>\n",
              "      <th>1</th>\n",
              "      <td>0</td>\n",
              "      <td>6</td>\n",
              "      <td>0.023844</td>\n",
              "      <td>0.086679</td>\n",
              "      <td>12.8</td>\n",
              "      <td>5167</td>\n",
              "    </tr>\n",
              "    <tr>\n",
              "      <th>2</th>\n",
              "      <td>0</td>\n",
              "      <td>5</td>\n",
              "      <td>0.037299</td>\n",
              "      <td>0.096686</td>\n",
              "      <td>6.4</td>\n",
              "      <td>3695</td>\n",
              "    </tr>\n",
              "    <tr>\n",
              "      <th>3</th>\n",
              "      <td>0</td>\n",
              "      <td>4</td>\n",
              "      <td>0.061790</td>\n",
              "      <td>0.120850</td>\n",
              "      <td>3.2</td>\n",
              "      <td>4315</td>\n",
              "    </tr>\n",
              "    <tr>\n",
              "      <th>4</th>\n",
              "      <td>0</td>\n",
              "      <td>3</td>\n",
              "      <td>0.111049</td>\n",
              "      <td>0.169891</td>\n",
              "      <td>1.6</td>\n",
              "      <td>3804</td>\n",
              "    </tr>\n",
              "    <tr>\n",
              "      <th>5</th>\n",
              "      <td>0</td>\n",
              "      <td>2</td>\n",
              "      <td>0.214117</td>\n",
              "      <td>0.269952</td>\n",
              "      <td>0.8</td>\n",
              "      <td>3504</td>\n",
              "    </tr>\n",
              "    <tr>\n",
              "      <th>6</th>\n",
              "      <td>0</td>\n",
              "      <td>1</td>\n",
              "      <td>0.383013</td>\n",
              "      <td>0.424395</td>\n",
              "      <td>0.4</td>\n",
              "      <td>5039</td>\n",
              "    </tr>\n",
              "    <tr>\n",
              "      <th>7</th>\n",
              "      <td>0</td>\n",
              "      <td>0</td>\n",
              "      <td>0.561200</td>\n",
              "      <td>0.580267</td>\n",
              "      <td>0.2</td>\n",
              "      <td>3408</td>\n",
              "    </tr>\n",
              "  </tbody>\n",
              "</table>\n",
              "</div>"
            ],
            "text/plain": [
              "   training_run  iteration      loss  eval_loss  learning_rate  duration_ms\n",
              "0             0          7  0.016809   0.085985           25.6         4046\n",
              "1             0          6  0.023844   0.086679           12.8         5167\n",
              "2             0          5  0.037299   0.096686            6.4         3695\n",
              "3             0          4  0.061790   0.120850            3.2         4315\n",
              "4             0          3  0.111049   0.169891            1.6         3804\n",
              "5             0          2  0.214117   0.269952            0.8         3504\n",
              "6             0          1  0.383013   0.424395            0.4         5039\n",
              "7             0          0  0.561200   0.580267            0.2         3408"
            ]
          },
          "metadata": {
            "tags": []
          },
          "execution_count": 107
        }
      ]
    },
    {
      "cell_type": "code",
      "metadata": {
        "colab": {
          "base_uri": "https://localhost:8080/",
          "height": 173
        },
        "id": "zqLN4R0ywpJw",
        "outputId": "e88641f2-c13c-4c5b-e116-83b09cd804e8"
      },
      "source": [
        "%%bigquery --project $project_id \n",
        "#although used mostly for linear regression, i used to determine via mean value which feature have overall mean value closer to 1\n",
        "SELECT\n",
        "  *\n",
        "FROM\n",
        "  ML.FEATURE_INFO(MODEL `Model.train`)"
      ],
      "execution_count": 108,
      "outputs": [
        {
          "output_type": "execute_result",
          "data": {
            "text/html": [
              "<div>\n",
              "<style scoped>\n",
              "    .dataframe tbody tr th:only-of-type {\n",
              "        vertical-align: middle;\n",
              "    }\n",
              "\n",
              "    .dataframe tbody tr th {\n",
              "        vertical-align: top;\n",
              "    }\n",
              "\n",
              "    .dataframe thead th {\n",
              "        text-align: right;\n",
              "    }\n",
              "</style>\n",
              "<table border=\"1\" class=\"dataframe\">\n",
              "  <thead>\n",
              "    <tr style=\"text-align: right;\">\n",
              "      <th></th>\n",
              "      <th>input</th>\n",
              "      <th>min</th>\n",
              "      <th>max</th>\n",
              "      <th>mean</th>\n",
              "      <th>median</th>\n",
              "      <th>stddev</th>\n",
              "      <th>category_count</th>\n",
              "      <th>null_count</th>\n",
              "    </tr>\n",
              "  </thead>\n",
              "  <tbody>\n",
              "    <tr>\n",
              "      <th>0</th>\n",
              "      <td>Rating</td>\n",
              "      <td>0.0</td>\n",
              "      <td>5.0</td>\n",
              "      <td>2.167458</td>\n",
              "      <td>0.0</td>\n",
              "      <td>2.362507</td>\n",
              "      <td>NaN</td>\n",
              "      <td>0.0</td>\n",
              "    </tr>\n",
              "    <tr>\n",
              "      <th>1</th>\n",
              "      <td>Review</td>\n",
              "      <td>0.0</td>\n",
              "      <td>509.0</td>\n",
              "      <td>8.358209</td>\n",
              "      <td>0.0</td>\n",
              "      <td>38.524502</td>\n",
              "      <td>NaN</td>\n",
              "      <td>0.0</td>\n",
              "    </tr>\n",
              "    <tr>\n",
              "      <th>2</th>\n",
              "      <td>Price</td>\n",
              "      <td>NaN</td>\n",
              "      <td>NaN</td>\n",
              "      <td>NaN</td>\n",
              "      <td>NaN</td>\n",
              "      <td>NaN</td>\n",
              "      <td>377.0</td>\n",
              "      <td>NaN</td>\n",
              "    </tr>\n",
              "    <tr>\n",
              "      <th>3</th>\n",
              "      <td>Availability</td>\n",
              "      <td>NaN</td>\n",
              "      <td>NaN</td>\n",
              "      <td>NaN</td>\n",
              "      <td>NaN</td>\n",
              "      <td>NaN</td>\n",
              "      <td>2.0</td>\n",
              "      <td>NaN</td>\n",
              "    </tr>\n",
              "  </tbody>\n",
              "</table>\n",
              "</div>"
            ],
            "text/plain": [
              "          input  min    max  ...     stddev  category_count  null_count\n",
              "0        Rating  0.0    5.0  ...   2.362507             NaN         0.0\n",
              "1        Review  0.0  509.0  ...  38.524502             NaN         0.0\n",
              "2         Price  NaN    NaN  ...        NaN           377.0         NaN\n",
              "3  Availability  NaN    NaN  ...        NaN             2.0         NaN\n",
              "\n",
              "[4 rows x 8 columns]"
            ]
          },
          "metadata": {
            "tags": []
          },
          "execution_count": 108
        }
      ]
    },
    {
      "cell_type": "markdown",
      "metadata": {
        "id": "Fc_clta9g3H5"
      },
      "source": [
        "## Data Exploration"
      ]
    },
    {
      "cell_type": "markdown",
      "metadata": {
        "id": "Ao9s8A2Ib7l3"
      },
      "source": [
        "##Checking correlation of Rating with Top Reviewed Products"
      ]
    },
    {
      "cell_type": "code",
      "metadata": {
        "colab": {
          "base_uri": "https://localhost:8080/",
          "height": 419
        },
        "id": "U0wOdVvDZSw1",
        "outputId": "010eb55d-4941-4f97-b5ed-3ad49b78239c"
      },
      "source": [
        "#identifying what number of products having ratings 3 and above are top reviewed\n",
        "%%bigquery --project $project_id \n",
        "\n",
        "(SELECT Rating_Score AS Rating, count(Top_Reviewed) as Top_Reviewed_Count\n",
        "FROM `project1-310314.Project3.Products`\n",
        "where Rating_Score>=3\n",
        "group by Rating_Score)"
      ],
      "execution_count": 85,
      "outputs": [
        {
          "output_type": "execute_result",
          "data": {
            "text/html": [
              "<div>\n",
              "<style scoped>\n",
              "    .dataframe tbody tr th:only-of-type {\n",
              "        vertical-align: middle;\n",
              "    }\n",
              "\n",
              "    .dataframe tbody tr th {\n",
              "        vertical-align: top;\n",
              "    }\n",
              "\n",
              "    .dataframe thead th {\n",
              "        text-align: right;\n",
              "    }\n",
              "</style>\n",
              "<table border=\"1\" class=\"dataframe\">\n",
              "  <thead>\n",
              "    <tr style=\"text-align: right;\">\n",
              "      <th></th>\n",
              "      <th>Rating</th>\n",
              "      <th>Top_Reviewed_Count</th>\n",
              "    </tr>\n",
              "  </thead>\n",
              "  <tbody>\n",
              "    <tr>\n",
              "      <th>0</th>\n",
              "      <td>4.71429</td>\n",
              "      <td>1</td>\n",
              "    </tr>\n",
              "    <tr>\n",
              "      <th>1</th>\n",
              "      <td>3.50000</td>\n",
              "      <td>4</td>\n",
              "    </tr>\n",
              "    <tr>\n",
              "      <th>2</th>\n",
              "      <td>4.42857</td>\n",
              "      <td>3</td>\n",
              "    </tr>\n",
              "    <tr>\n",
              "      <th>3</th>\n",
              "      <td>4.96667</td>\n",
              "      <td>1</td>\n",
              "    </tr>\n",
              "    <tr>\n",
              "      <th>4</th>\n",
              "      <td>4.00000</td>\n",
              "      <td>24</td>\n",
              "    </tr>\n",
              "    <tr>\n",
              "      <th>...</th>\n",
              "      <td>...</td>\n",
              "      <td>...</td>\n",
              "    </tr>\n",
              "    <tr>\n",
              "      <th>114</th>\n",
              "      <td>4.31034</td>\n",
              "      <td>1</td>\n",
              "    </tr>\n",
              "    <tr>\n",
              "      <th>115</th>\n",
              "      <td>4.18750</td>\n",
              "      <td>1</td>\n",
              "    </tr>\n",
              "    <tr>\n",
              "      <th>116</th>\n",
              "      <td>3.25000</td>\n",
              "      <td>1</td>\n",
              "    </tr>\n",
              "    <tr>\n",
              "      <th>117</th>\n",
              "      <td>4.21429</td>\n",
              "      <td>1</td>\n",
              "    </tr>\n",
              "    <tr>\n",
              "      <th>118</th>\n",
              "      <td>4.81250</td>\n",
              "      <td>1</td>\n",
              "    </tr>\n",
              "  </tbody>\n",
              "</table>\n",
              "<p>119 rows × 2 columns</p>\n",
              "</div>"
            ],
            "text/plain": [
              "      Rating  Top_Reviewed_Count\n",
              "0    4.71429                   1\n",
              "1    3.50000                   4\n",
              "2    4.42857                   3\n",
              "3    4.96667                   1\n",
              "4    4.00000                  24\n",
              "..       ...                 ...\n",
              "114  4.31034                   1\n",
              "115  4.18750                   1\n",
              "116  3.25000                   1\n",
              "117  4.21429                   1\n",
              "118  4.81250                   1\n",
              "\n",
              "[119 rows x 2 columns]"
            ]
          },
          "metadata": {
            "tags": []
          },
          "execution_count": 85
        }
      ]
    },
    {
      "cell_type": "code",
      "metadata": {
        "colab": {
          "base_uri": "https://localhost:8080/",
          "height": 351
        },
        "id": "PsW_g6pKaLWU",
        "outputId": "e9761f65-5dea-4010-b702-157a18292208"
      },
      "source": [
        "plt.figure(figsize=(22,5))\n",
        "plt.bar(c1[\"Rating\"], c1[\"Top_Reviewed_Count\"])\n",
        "plt.plot(c1[\"Rating\"], c1[\"Top_Reviewed_Count\"])\n",
        "plt.xlabel(\"Rating\")\n",
        "plt.ylabel(\"NO of Products\")"
      ],
      "execution_count": 58,
      "outputs": [
        {
          "output_type": "execute_result",
          "data": {
            "text/plain": [
              "Text(0, 0.5, 'NO of Products')"
            ]
          },
          "metadata": {
            "tags": []
          },
          "execution_count": 58
        },
        {
          "output_type": "display_data",
          "data": {
            "image/png": "[encoded data removed]",
            "text/plain": [
              "<Figure size 1584x360 with 1 Axes>"
            ]
          },
          "metadata": {
            "tags": [],
            "needs_background": "light"
          }
        }
      ]
    },
    {
      "cell_type": "markdown",
      "metadata": {
        "id": "ChFGZwf7gTIP"
      },
      "source": [
        "##Percentage of Top Reviewed Products that have Rating greater than and equal to 3"
      ]
    },
    {
      "cell_type": "code",
      "metadata": {
        "colab": {
          "base_uri": "https://localhost:8080/",
          "height": 80
        },
        "id": "uDoKcdTcbFkb",
        "outputId": "aecfd4ee-13fb-4255-d73e-7af4d461c566"
      },
      "source": [
        "%%bigquery --project $project_id \n",
        "\n",
        "# YOUR QUERY HERE\n",
        "SELECT ROUND(COUNTIF(Top_Reviewed=1 and Rating_Score>=3)/\n",
        "                  (SELECT COUNT (Top_Reviewed=1) FROM `project1-310314.Project3.Products`)*1000,2)AS Top_Reviewed  \n",
        "FROM `project1-310314.Project3.Products`"
      ],
      "execution_count": 70,
      "outputs": [
        {
          "output_type": "execute_result",
          "data": {
            "text/html": [
              "<div>\n",
              "<style scoped>\n",
              "    .dataframe tbody tr th:only-of-type {\n",
              "        vertical-align: middle;\n",
              "    }\n",
              "\n",
              "    .dataframe tbody tr th {\n",
              "        vertical-align: top;\n",
              "    }\n",
              "\n",
              "    .dataframe thead th {\n",
              "        text-align: right;\n",
              "    }\n",
              "</style>\n",
              "<table border=\"1\" class=\"dataframe\">\n",
              "  <thead>\n",
              "    <tr style=\"text-align: right;\">\n",
              "      <th></th>\n",
              "      <th>Top_Reviewed</th>\n",
              "    </tr>\n",
              "  </thead>\n",
              "  <tbody>\n",
              "    <tr>\n",
              "      <th>0</th>\n",
              "      <td>16.24</td>\n",
              "    </tr>\n",
              "  </tbody>\n",
              "</table>\n",
              "</div>"
            ],
            "text/plain": [
              "   Top_Reviewed\n",
              "0         16.24"
            ]
          },
          "metadata": {
            "tags": []
          },
          "execution_count": 70
        }
      ]
    },
    {
      "cell_type": "markdown",
      "metadata": {
        "id": "edPffarvfTNQ"
      },
      "source": [
        "##Checking correlation of Reviews with Top Reviewed Products"
      ]
    },
    {
      "cell_type": "code",
      "metadata": {
        "colab": {
          "base_uri": "https://localhost:8080/",
          "height": 607
        },
        "id": "cYkDocpSf216",
        "outputId": "dbce12e5-179d-49cc-ff14-6033d4dc76c7"
      },
      "source": [
        "#identifying what number of products having Reviews 100 and above are top reviewed\n",
        "%%bigquery --project $project_id \n",
        "\n",
        "(SELECT Review AS Reviews, count(Top_Reviewed) as Top_Reviewed_Count\n",
        "FROM `project1-310314.Project3.Products`\n",
        "where Review>=100\n",
        "group by Review)"
      ],
      "execution_count": 84,
      "outputs": [
        {
          "output_type": "execute_result",
          "data": {
            "text/html": [
              "<div>\n",
              "<style scoped>\n",
              "    .dataframe tbody tr th:only-of-type {\n",
              "        vertical-align: middle;\n",
              "    }\n",
              "\n",
              "    .dataframe tbody tr th {\n",
              "        vertical-align: top;\n",
              "    }\n",
              "\n",
              "    .dataframe thead th {\n",
              "        text-align: right;\n",
              "    }\n",
              "</style>\n",
              "<table border=\"1\" class=\"dataframe\">\n",
              "  <thead>\n",
              "    <tr style=\"text-align: right;\">\n",
              "      <th></th>\n",
              "      <th>Reviews</th>\n",
              "      <th>Top_Reviewed_Count</th>\n",
              "    </tr>\n",
              "  </thead>\n",
              "  <tbody>\n",
              "    <tr>\n",
              "      <th>0</th>\n",
              "      <td>279</td>\n",
              "      <td>1</td>\n",
              "    </tr>\n",
              "    <tr>\n",
              "      <th>1</th>\n",
              "      <td>315</td>\n",
              "      <td>1</td>\n",
              "    </tr>\n",
              "    <tr>\n",
              "      <th>2</th>\n",
              "      <td>1044</td>\n",
              "      <td>1</td>\n",
              "    </tr>\n",
              "    <tr>\n",
              "      <th>3</th>\n",
              "      <td>125</td>\n",
              "      <td>1</td>\n",
              "    </tr>\n",
              "    <tr>\n",
              "      <th>4</th>\n",
              "      <td>509</td>\n",
              "      <td>1</td>\n",
              "    </tr>\n",
              "    <tr>\n",
              "      <th>5</th>\n",
              "      <td>222</td>\n",
              "      <td>1</td>\n",
              "    </tr>\n",
              "    <tr>\n",
              "      <th>6</th>\n",
              "      <td>297</td>\n",
              "      <td>1</td>\n",
              "    </tr>\n",
              "    <tr>\n",
              "      <th>7</th>\n",
              "      <td>264</td>\n",
              "      <td>1</td>\n",
              "    </tr>\n",
              "    <tr>\n",
              "      <th>8</th>\n",
              "      <td>465</td>\n",
              "      <td>1</td>\n",
              "    </tr>\n",
              "    <tr>\n",
              "      <th>9</th>\n",
              "      <td>373</td>\n",
              "      <td>1</td>\n",
              "    </tr>\n",
              "    <tr>\n",
              "      <th>10</th>\n",
              "      <td>114</td>\n",
              "      <td>1</td>\n",
              "    </tr>\n",
              "    <tr>\n",
              "      <th>11</th>\n",
              "      <td>155</td>\n",
              "      <td>1</td>\n",
              "    </tr>\n",
              "    <tr>\n",
              "      <th>12</th>\n",
              "      <td>135</td>\n",
              "      <td>1</td>\n",
              "    </tr>\n",
              "    <tr>\n",
              "      <th>13</th>\n",
              "      <td>156</td>\n",
              "      <td>1</td>\n",
              "    </tr>\n",
              "    <tr>\n",
              "      <th>14</th>\n",
              "      <td>136</td>\n",
              "      <td>1</td>\n",
              "    </tr>\n",
              "    <tr>\n",
              "      <th>15</th>\n",
              "      <td>142</td>\n",
              "      <td>1</td>\n",
              "    </tr>\n",
              "    <tr>\n",
              "      <th>16</th>\n",
              "      <td>308</td>\n",
              "      <td>1</td>\n",
              "    </tr>\n",
              "    <tr>\n",
              "      <th>17</th>\n",
              "      <td>102</td>\n",
              "      <td>1</td>\n",
              "    </tr>\n",
              "  </tbody>\n",
              "</table>\n",
              "</div>"
            ],
            "text/plain": [
              "    Reviews  Top_Reviewed_Count\n",
              "0       279                   1\n",
              "1       315                   1\n",
              "2      1044                   1\n",
              "3       125                   1\n",
              "4       509                   1\n",
              "5       222                   1\n",
              "6       297                   1\n",
              "7       264                   1\n",
              "8       465                   1\n",
              "9       373                   1\n",
              "10      114                   1\n",
              "11      155                   1\n",
              "12      135                   1\n",
              "13      156                   1\n",
              "14      136                   1\n",
              "15      142                   1\n",
              "16      308                   1\n",
              "17      102                   1"
            ]
          },
          "metadata": {
            "tags": []
          },
          "execution_count": 84
        }
      ]
    },
    {
      "cell_type": "code",
      "metadata": {
        "colab": {
          "base_uri": "https://localhost:8080/",
          "height": 351
        },
        "id": "Da6XYJXngmGu",
        "outputId": "58ee6702-ed07-4588-b19a-1bd307a188a4"
      },
      "source": [
        "plt.figure(figsize=(22,5))\n",
        "plt.bar(c2[\"Reviews\"], c2[\"Top_Reviewed_Count\"])\n",
        "plt.plot(c2[\"Reviews\"], c2[\"Top_Reviewed_Count\"])\n",
        "plt.xlabel(\"Reviews\")\n",
        "plt.ylabel(\"NO of Products\")"
      ],
      "execution_count": 65,
      "outputs": [
        {
          "output_type": "execute_result",
          "data": {
            "text/plain": [
              "Text(0, 0.5, 'NO of Products')"
            ]
          },
          "metadata": {
            "tags": []
          },
          "execution_count": 65
        },
        {
          "output_type": "display_data",
          "data": {
            "image/png": "[encoded data removed]",
            "text/plain": [
              "<Figure size 1584x360 with 1 Axes>"
            ]
          },
          "metadata": {
            "tags": [],
            "needs_background": "light"
          }
        }
      ]
    },
    {
      "cell_type": "markdown",
      "metadata": {
        "id": "uFU_jIKKjBAN"
      },
      "source": [
        "##Percentage of Top Reviewed Products that have Reviews greater than and equal to 100"
      ]
    },
    {
      "cell_type": "code",
      "metadata": {
        "colab": {
          "base_uri": "https://localhost:8080/",
          "height": 80
        },
        "id": "RU6ecmtwjIWY",
        "outputId": "35327f70-0143-4fa1-9dcc-7c2a3f2f09f6"
      },
      "source": [
        "%%bigquery --project $project_id \n",
        "\n",
        "# YOUR QUERY HERE\n",
        "SELECT ROUND(COUNTIF(Top_Reviewed=1 and Review>=100)/\n",
        "                  (SELECT COUNT (Top_Reviewed=1) FROM `project1-310314.Project3.Products`)*10000,2)AS Top_Reviewed  \n",
        "FROM `project1-310314.Project3.Products`"
      ],
      "execution_count": 68,
      "outputs": [
        {
          "output_type": "execute_result",
          "data": {
            "text/html": [
              "<div>\n",
              "<style scoped>\n",
              "    .dataframe tbody tr th:only-of-type {\n",
              "        vertical-align: middle;\n",
              "    }\n",
              "\n",
              "    .dataframe tbody tr th {\n",
              "        vertical-align: top;\n",
              "    }\n",
              "\n",
              "    .dataframe thead th {\n",
              "        text-align: right;\n",
              "    }\n",
              "</style>\n",
              "<table border=\"1\" class=\"dataframe\">\n",
              "  <thead>\n",
              "    <tr style=\"text-align: right;\">\n",
              "      <th></th>\n",
              "      <th>Top_Reviewed</th>\n",
              "    </tr>\n",
              "  </thead>\n",
              "  <tbody>\n",
              "    <tr>\n",
              "      <th>0</th>\n",
              "      <td>85.07</td>\n",
              "    </tr>\n",
              "  </tbody>\n",
              "</table>\n",
              "</div>"
            ],
            "text/plain": [
              "   Top_Reviewed\n",
              "0         85.07"
            ]
          },
          "metadata": {
            "tags": []
          },
          "execution_count": 68
        }
      ]
    },
    {
      "cell_type": "markdown",
      "metadata": {
        "id": "fWa1f5J5kDSw"
      },
      "source": [
        "##Checking correlation of Availability with Top Reviewed Products\n",
        "\n"
      ]
    },
    {
      "cell_type": "code",
      "metadata": {
        "colab": {
          "base_uri": "https://localhost:8080/",
          "height": 111
        },
        "id": "jHzfpvHZlJex",
        "outputId": "312dcfb8-5cdd-4ff2-aa2d-0502a1abf2c0"
      },
      "source": [
        "%%bigquery --project $project_id \n",
        "\n",
        "(SELECT In_Stock AS Availability, count(Top_Reviewed) as Top_Reviewed_Count\n",
        "FROM `project1-310314.Project3.Products`\n",
        "group by In_Stock) \n"
      ],
      "execution_count": 83,
      "outputs": [
        {
          "output_type": "execute_result",
          "data": {
            "text/html": [
              "<div>\n",
              "<style scoped>\n",
              "    .dataframe tbody tr th:only-of-type {\n",
              "        vertical-align: middle;\n",
              "    }\n",
              "\n",
              "    .dataframe tbody tr th {\n",
              "        vertical-align: top;\n",
              "    }\n",
              "\n",
              "    .dataframe thead th {\n",
              "        text-align: right;\n",
              "    }\n",
              "</style>\n",
              "<table border=\"1\" class=\"dataframe\">\n",
              "  <thead>\n",
              "    <tr style=\"text-align: right;\">\n",
              "      <th></th>\n",
              "      <th>Availability</th>\n",
              "      <th>Top_Reviewed_Count</th>\n",
              "    </tr>\n",
              "  </thead>\n",
              "  <tbody>\n",
              "    <tr>\n",
              "      <th>0</th>\n",
              "      <td>True</td>\n",
              "      <td>1054</td>\n",
              "    </tr>\n",
              "    <tr>\n",
              "      <th>1</th>\n",
              "      <td>False</td>\n",
              "      <td>239</td>\n",
              "    </tr>\n",
              "  </tbody>\n",
              "</table>\n",
              "</div>"
            ],
            "text/plain": [
              "   Availability  Top_Reviewed_Count\n",
              "0          True                1054\n",
              "1         False                 239"
            ]
          },
          "metadata": {
            "tags": []
          },
          "execution_count": 83
        }
      ]
    },
    {
      "cell_type": "markdown",
      "metadata": {
        "id": "UlC3LM-wlKPi"
      },
      "source": [
        ""
      ]
    },
    {
      "cell_type": "code",
      "metadata": {
        "colab": {
          "base_uri": "https://localhost:8080/",
          "height": 351
        },
        "id": "tg7XIMHElK73",
        "outputId": "83b4a418-1300-433a-9f5b-8dcd95d51512"
      },
      "source": [
        "plt.figure(figsize=(22,5))\n",
        "plt.bar(c4[\"Availability\"], c4[\"Top_Reviewed_Count\"])\n",
        "plt.plot(c4[\"Availability\"], c4[\"Top_Reviewed_Count\"])\n",
        "plt.xlabel(\"Availability\")\n",
        "plt.ylabel(\"NO of Products\")"
      ],
      "execution_count": 82,
      "outputs": [
        {
          "output_type": "execute_result",
          "data": {
            "text/plain": [
              "Text(0, 0.5, 'NO of Products')"
            ]
          },
          "metadata": {
            "tags": []
          },
          "execution_count": 82
        },
        {
          "output_type": "display_data",
          "data": {
            "image/png": "[encoded data removed]",
            "text/plain": [
              "<Figure size 1584x360 with 1 Axes>"
            ]
          },
          "metadata": {
            "tags": [],
            "needs_background": "light"
          }
        }
      ]
    },
    {
      "cell_type": "markdown",
      "metadata": {
        "id": "xTpgdoE0oEzR"
      },
      "source": [
        "##Percentage of Top Reviewed Products that are Currently Available"
      ]
    },
    {
      "cell_type": "code",
      "metadata": {
        "colab": {
          "base_uri": "https://localhost:8080/",
          "height": 80
        },
        "id": "Y-z8cOZnoNMF",
        "outputId": "d09a1941-e31c-41d3-f749-20bf20058c03"
      },
      "source": [
        "%%bigquery --project $project_id \n",
        "\n",
        "# YOUR QUERY HERE\n",
        "SELECT ROUND(COUNTIF(Top_Reviewed=1 and In_Stock=True)/\n",
        "                  (SELECT COUNT (Top_Reviewed=1) FROM `project1-310314.Project3.Products`)*1000,2)AS Top_Reviewed  \n",
        "FROM `project1-310314.Project3.Products`"
      ],
      "execution_count": 87,
      "outputs": [
        {
          "output_type": "execute_result",
          "data": {
            "text/html": [
              "<div>\n",
              "<style scoped>\n",
              "    .dataframe tbody tr th:only-of-type {\n",
              "        vertical-align: middle;\n",
              "    }\n",
              "\n",
              "    .dataframe tbody tr th {\n",
              "        vertical-align: top;\n",
              "    }\n",
              "\n",
              "    .dataframe thead th {\n",
              "        text-align: right;\n",
              "    }\n",
              "</style>\n",
              "<table border=\"1\" class=\"dataframe\">\n",
              "  <thead>\n",
              "    <tr style=\"text-align: right;\">\n",
              "      <th></th>\n",
              "      <th>Top_Reviewed</th>\n",
              "    </tr>\n",
              "  </thead>\n",
              "  <tbody>\n",
              "    <tr>\n",
              "      <th>0</th>\n",
              "      <td>11.6</td>\n",
              "    </tr>\n",
              "  </tbody>\n",
              "</table>\n",
              "</div>"
            ],
            "text/plain": [
              "   Top_Reviewed\n",
              "0          11.6"
            ]
          },
          "metadata": {
            "tags": []
          },
          "execution_count": 87
        }
      ]
    },
    {
      "cell_type": "markdown",
      "metadata": {
        "id": "Dg7Lhqi_yDcy"
      },
      "source": [
        "## Conclusion"
      ]
    },
    {
      "cell_type": "markdown",
      "metadata": {
        "id": "YmVpTigjyHMY"
      },
      "source": [
        "---\n",
        "\n",
        "In order to make a prediction model for my dataset, it was essential to study it deeply. This is because there are a number of features that affect the Product to become Top Reviewed. But not all of them hold equal importance. Thus, in data analysis part, i studied the coorelation between the attrributes and made graphs.\n",
        "\n",
        "This way, i explored and made graphs for those attributes that had the highest percentage of relation between them. Logistic regression was used as the training model type.\n",
        "\n",
        "---"
      ]
    }
  ]
}